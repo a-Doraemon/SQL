{
 "cells": [
  {
   "cell_type": "code",
   "execution_count": 1,
   "metadata": {},
   "outputs": [
    {
     "name": "stdout",
     "output_type": "stream",
     "text": [
      "   label  age_range  gender  click  add_to_act  purchase  add_to_favourite\n",
      "0      1          3       1     10           0         4                 0\n",
      "1      0          4       0      2           0         1                 1\n",
      "2      0          4       0      5           0         1                 1\n",
      "3      0          4       0      0           0         4                 0\n",
      "4      0          4       0      4           0         1                 1\n",
      "   age_range  gender  click  add_to_act  purchase  add_to_favourite\n",
      "0          3       0      1           0         1                 0\n",
      "1          2       0     10           0        10                 0\n",
      "2          6       0      5           0         1                 0\n",
      "3          6       0     10           0         1                 0\n",
      "4          2       1     47           0         1                 2\n"
     ]
    }
   ],
   "source": [
    "import pandas as pd\n",
    "import numpy as np\n",
    "from sklearn.preprocessing import LabelEncoder\n",
    "from sklearn.linear_model import LogisticRegression\n",
    "from xgboost import XGBClassifier\n",
    "from sklearn.ensemble import GradientBoostingClassifier\n",
    "from sklearn.metrics import accuracy_score\n",
    "\n",
    "train_info_log1=pd.read_csv(\"E:/file_of_the_R/repeatbuyers/output_file/train_info_log1.csv\")\n",
    "complete_test=pd.read_csv(\"E:/file_of_the_R/repeatbuyers/output_file/complte_test.csv\")\n",
    "print(train_info_log1.head())\n",
    "print(complete_test.head())"
   ]
  },
  {
   "cell_type": "code",
   "execution_count": 2,
   "metadata": {
    "collapsed": true
   },
   "outputs": [],
   "source": [
    "#模型调参:\n",
    "from sklearn.model_selection import train_test_split\n",
    "from sklearn.model_selection import GridSearchCV\n",
    "train_x,test_x,train_y,test_y=train_test_split(train_info_log1.iloc[:,1:7],train_info_log1.iloc[:,0])\n",
    "\n",
    "# xgb=XGBClassifier(gamma=0,min_child_weight=1,reg_lambda=1,max_depth=1,learning_rate=0.01,n_estimators= 210)\n",
    "# train_x=train_info_log1.iloc[:,1:7]\n",
    "# train_y=train_info_log1.iloc[:,0]\n",
    "# xgb.fit(train_x,train_y)            \n",
    "# y_predict=xgb.predict_proba(complete_test)\n",
    "# y_predict=pd.DataFrame(y_predict)\n",
    "# y_predict1=y_predict.iloc[:,1]\n",
    "# y_predict1.to_csv('E:/file_of_the_R/repeatbuyers/output_file/submission_1_23.csv')"
   ]
  },
  {
   "cell_type": "code",
   "execution_count": 3,
   "metadata": {},
   "outputs": [
    {
     "name": "stdout",
     "output_type": "stream",
     "text": [
      "   mean_test_score                        params\n",
      "0         0.937379  {'C': 0.01, 'penalty': 'l1'}\n",
      "1         0.937407  {'C': 0.01, 'penalty': 'l2'}\n",
      "2         0.937359  {'C': 0.05, 'penalty': 'l1'}\n",
      "3         0.937366  {'C': 0.05, 'penalty': 'l2'}\n",
      "4         0.937359   {'C': 0.1, 'penalty': 'l1'}\n",
      "5         0.937366   {'C': 0.1, 'penalty': 'l2'}\n",
      "6         0.937359   {'C': 0.5, 'penalty': 'l1'}\n",
      "7         0.937359   {'C': 0.5, 'penalty': 'l2'}\n",
      "8         0.937359     {'C': 1, 'penalty': 'l1'}\n",
      "9         0.937359     {'C': 1, 'penalty': 'l2'}\n",
      "Best parameters:{'C': 0.01, 'penalty': 'l2'}\n",
      "Best cross_validation score:0.9374065922121682\n",
      "The accuracy of test:0.9394106138420152\n"
     ]
    }
   ],
   "source": [
    "# 逻辑斯蒂回归模型：\n",
    "param_grid={\"penalty\":[\"l1\",'l2'],\"C\":[0.01,0.05,0.1,0.5,1]}\n",
    "grid_search=GridSearchCV(LogisticRegression(),param_grid,cv=5,scoring=\"accuracy\",return_train_score=True)\n",
    "grid_search.fit(train_x,train_y)\n",
    "cv_result = pd.DataFrame.from_dict(grid_search.cv_results_)\n",
    "print(cv_result[[\"mean_test_score\",\"params\"]])\n",
    "print(\"Best parameters:{}\".format(grid_search.best_params_))\n",
    "print(\"Best cross_validation score:{}\".format(grid_search.best_score_))\n",
    "pre_y=grid_search.predict(test_x)\n",
    "print(\"The accuracy of test:{}\".format(accuracy_score(test_y,pre_y)))"
   ]
  },
  {
   "cell_type": "code",
   "execution_count": 4,
   "metadata": {},
   "outputs": [
    {
     "name": "stdout",
     "output_type": "stream",
     "text": [
      "   mean_test_score                          params\n",
      "0         0.937359     {'C': 0.1, 'penalty': 'l1'}\n",
      "1         0.937366     {'C': 0.1, 'penalty': 'l2'}\n",
      "2         0.937379    {'C': 0.01, 'penalty': 'l1'}\n",
      "3         0.937407    {'C': 0.01, 'penalty': 'l2'}\n",
      "4         0.937454   {'C': 0.001, 'penalty': 'l1'}\n",
      "5         0.937475   {'C': 0.001, 'penalty': 'l2'}\n",
      "6         0.937563  {'C': 0.0001, 'penalty': 'l1'}\n",
      "7         0.937522  {'C': 0.0001, 'penalty': 'l2'}\n",
      "8         0.937563   {'C': 1e-05, 'penalty': 'l1'}\n",
      "9         0.937563   {'C': 1e-05, 'penalty': 'l2'}\n",
      "Best parameters:{'C': 0.0001, 'penalty': 'l1'}\n",
      "Best cross_validation score:0.9375628379663596\n",
      "The accuracy of test:0.9396144126518301\n"
     ]
    }
   ],
   "source": [
    "param_grid={\"penalty\":[\"l1\",'l2'],\"C\":[0.1,0.01,0.001,0.0001,0.00001]}\n",
    "grid_search=GridSearchCV(LogisticRegression(),param_grid,cv=5,scoring=\"accuracy\",return_train_score=True)\n",
    "grid_search.fit(train_x,train_y)\n",
    "cv_result = pd.DataFrame.from_dict(grid_search.cv_results_)\n",
    "print(cv_result[[\"mean_test_score\",\"params\"]])\n",
    "print(\"Best parameters:{}\".format(grid_search.best_params_))\n",
    "print(\"Best cross_validation score:{}\".format(grid_search.best_score_))\n",
    "pre_y=grid_search.predict(test_x)\n",
    "print(\"The accuracy of test:{}\".format(accuracy_score(test_y,pre_y)))"
   ]
  },
  {
   "cell_type": "code",
   "execution_count": 5,
   "metadata": {},
   "outputs": [
    {
     "name": "stdout",
     "output_type": "stream",
     "text": [
      "Best parameters:{'max_depth': 3, 'min_samples_leaf': 80, 'min_samples_split': 800}\n",
      "Best cross_validation score:0.9375628379663596\n",
      "The accuracy of test:0.9396144126518301\n"
     ]
    }
   ],
   "source": [
    "# GradientBoostingTree模型：\n",
    "param_grid={\"max_depth\":range(3,10,3),\"min_samples_leaf\":range(80,151,30),\"min_samples_split\":range(800,1900,400)}\n",
    "grid_search=GridSearchCV(GradientBoostingClassifier(learning_rate=0.01),param_grid,cv=5,scoring=\"accuracy\")\n",
    "grid_search.fit(train_x,train_y)\n",
    "# cv_result = pd.DataFrame.from_dict(grid_search.cv_results_)\n",
    "# print(cv_result[[\"mean_test_score\",\"params\"]])\n",
    "print(\"Best parameters:{}\".format(grid_search.best_params_))\n",
    "print(\"Best cross_validation score:{}\".format(grid_search.best_score_))\n",
    "pre_y=grid_search.predict(test_x)\n",
    "print(\"The accuracy of test:{}\".format(accuracy_score(test_y,pre_y)))"
   ]
  },
  {
   "cell_type": "code",
   "execution_count": 6,
   "metadata": {},
   "outputs": [
    {
     "name": "stdout",
     "output_type": "stream",
     "text": [
      "Best parameters:{'learning_rate': 0.01, 'n_estimators': 200}\n",
      "Best cross_validation score:0.9375628379663596\n",
      "The accuracy of test:0.9396144126518301\n"
     ]
    }
   ],
   "source": [
    "param_grid={\"n_estimators\":[200,150,100], \"learning_rate\":[0.01,0.1,0.3]}\n",
    "grid_search=GridSearchCV(GradientBoostingClassifier(max_depth=3,min_samples_leaf=80,min_samples_split=800),param_grid,cv=5,scoring=\"accuracy\")\n",
    "grid_search.fit(train_x,train_y)\n",
    "# cv_result = pd.DataFrame.from_dict(grid_search.cv_results_)\n",
    "# print(cv_result[[\"mean_test_score\",\"params\"]])\n",
    "print(\"Best parameters:{}\".format(grid_search.best_params_))\n",
    "print(\"Best cross_validation score:{}\".format(grid_search.best_score_))\n",
    "pre_y=grid_search.predict(test_x)\n",
    "print(\"The accuracy of test:{}\".format(accuracy_score(test_y,pre_y)))"
   ]
  },
  {
   "cell_type": "code",
   "execution_count": 7,
   "metadata": {},
   "outputs": [
    {
     "name": "stdout",
     "output_type": "stream",
     "text": [
      "Best parameters:{'learning_rate': 0.05, 'n_estimators': 220}\n",
      "Best cross_validation score:0.9375356647917176\n",
      "The accuracy of test:0.9396144126518301\n"
     ]
    }
   ],
   "source": [
    "param_grid={\"n_estimators\":[220,200,180], \"learning_rate\":[0.05,0.1,0.15]}\n",
    "grid_search=GridSearchCV(GradientBoostingClassifier(max_depth=3,min_samples_leaf=80,min_samples_split=800),param_grid,cv=5,scoring=\"accuracy\")\n",
    "grid_search.fit(train_x,train_y)\n",
    "# cv_result = pd.DataFrame.from_dict(grid_search.cv_results_)\n",
    "# print(cv_result[[\"mean_test_score\",\"params\"]])\n",
    "print(\"Best parameters:{}\".format(grid_search.best_params_))\n",
    "print(\"Best cross_validation score:{}\".format(grid_search.best_score_))\n",
    "pre_y=grid_search.predict(test_x)\n",
    "print(\"The accuracy of test:{}\".format(accuracy_score(test_y,pre_y)))"
   ]
  },
  {
   "cell_type": "code",
   "execution_count": 8,
   "metadata": {},
   "outputs": [
    {
     "name": "stdout",
     "output_type": "stream",
     "text": [
      "Best parameters:{'n_estimators': 220}\n",
      "Best cross_validation score:0.9375152849107361\n",
      "The accuracy of test:0.9395532730088856\n"
     ]
    }
   ],
   "source": [
    "param_grid={\"n_estimators\":range(220,250,10)}\n",
    "grid_search=GridSearchCV(GradientBoostingClassifier(learning_rate=0.1,max_depth=3,min_samples_leaf=80,min_samples_split=800),param_grid,cv=5,scoring=\"accuracy\")\n",
    "grid_search.fit(train_x,train_y)\n",
    "# cv_result = pd.DataFrame.from_dict(grid_search.cv_results_)\n",
    "# print(cv_result[[\"mean_test_score\",\"params\"]])\n",
    "print(\"Best parameters:{}\".format(grid_search.best_params_))\n",
    "print(\"Best cross_validation score:{}\".format(grid_search.best_score_))\n",
    "pre_y=grid_search.predict(test_x)\n",
    "print(\"The accuracy of test:{}\".format(accuracy_score(test_y,pre_y)))"
   ]
  },
  {
   "cell_type": "code",
   "execution_count": 9,
   "metadata": {},
   "outputs": [
    {
     "name": "stdout",
     "output_type": "stream",
     "text": [
      "Best parameters:{'max_depth': 2, 'min_samples_leaf': 60, 'min_samples_split': 600}\n",
      "Best cross_validation score:0.9375492513790387\n",
      "The accuracy of test:0.9395736528898672\n"
     ]
    }
   ],
   "source": [
    "param_grid={\"max_depth\":range(2,5,1),\"min_samples_leaf\":range(60,90,10),\"min_samples_split\":range(600,900,100)}\n",
    "grid_search=GridSearchCV(GradientBoostingClassifier(n_estimators=220,learning_rate=0.1),param_grid,cv=5,scoring=\"accuracy\")\n",
    "grid_search.fit(train_x,train_y)\n",
    "# cv_result = pd.DataFrame.from_dict(grid_search.cv_results_)\n",
    "# print(cv_result[[\"mean_test_score\",\"params\"]])\n",
    "print(\"Best parameters:{}\".format(grid_search.best_params_))\n",
    "print(\"Best cross_validation score:{}\".format(grid_search.best_score_))\n",
    "pre_y=grid_search.predict(test_x)\n",
    "print(\"The accuracy of test:{}\".format(accuracy_score(test_y,pre_y)))"
   ]
  },
  {
   "cell_type": "code",
   "execution_count": 10,
   "metadata": {},
   "outputs": [
    {
     "name": "stdout",
     "output_type": "stream",
     "text": [
      "Best parameters:{'max_depth': 1, 'min_samples_split': 100}\n",
      "Best cross_validation score:0.9375424580853781\n",
      "The accuracy of test:0.9396144126518301\n"
     ]
    }
   ],
   "source": [
    "param_grid={\"max_depth\":[1,2],\"min_samples_split\":range(100,700,100)}\n",
    "grid_search=GridSearchCV(GradientBoostingClassifier(n_estimators=220,min_samples_leaf=70,learning_rate=0.1),param_grid,cv=5,scoring=\"accuracy\")\n",
    "grid_search.fit(train_x,train_y)\n",
    "# cv_result = pd.DataFrame.from_dict(grid_search.cv_results_)\n",
    "# print(cv_result[[\"mean_test_score\",\"params\"]])\n",
    "print(\"Best parameters:{}\".format(grid_search.best_params_))\n",
    "print(\"Best cross_validation score:{}\".format(grid_search.best_score_))\n",
    "pre_y=grid_search.predict(test_x)\n",
    "print(\"The accuracy of test:{}\".format(accuracy_score(test_y,pre_y)))"
   ]
  },
  {
   "cell_type": "code",
   "execution_count": 11,
   "metadata": {},
   "outputs": [
    {
     "name": "stdout",
     "output_type": "stream",
     "text": [
      "Best parameters:{'learning_rate': 0.05, 'max_depth': 1}\n",
      "Best cross_validation score:0.9375628379663596\n",
      "The accuracy of test:0.9396144126518301\n"
     ]
    }
   ],
   "source": [
    "# XGBoost模型：\n",
    "from xgboost.sklearn import XGBClassifier\n",
    "param_grid={\"learning_rate\":[0.05,0.1,0.15],\"max_depth\": [1,2,3]}\n",
    "#,gamma=0,lambda=1,alpha=1,\"n_estimators\":[210,220,230],\"max_depth\":[1,2,3],\"min_child_weight\":[1,2,3]\n",
    "grid_search=GridSearchCV(XGBClassifier(n_estimators=220),param_grid,cv=5,scoring=\"accuracy\")\n",
    "grid_search.fit(train_x,train_y)\n",
    "# cv_result = pd.DataFrame.from_dict(grid_search.cv_results_)\n",
    "# print(cv_result[[\"mean_test_score\",\"params\"]])\n",
    "print(\"Best parameters:{}\".format(grid_search.best_params_))\n",
    "print(\"Best cross_validation score:{}\".format(grid_search.best_score_))\n",
    "pre_y=grid_search.predict(test_x)\n",
    "print(\"The accuracy of test:{}\".format(accuracy_score(test_y,pre_y)))"
   ]
  },
  {
   "cell_type": "code",
   "execution_count": 12,
   "metadata": {},
   "outputs": [
    {
     "name": "stdout",
     "output_type": "stream",
     "text": [
      "Best parameters:{'learning_rate': 0.01, 'max_depth': 1, 'n_estimators': 210}\n",
      "Best cross_validation score:0.9375628379663596\n",
      "The accuracy of test:0.9396144126518301\n"
     ]
    }
   ],
   "source": [
    "param_grid={\"n_estimators\":[210,220,230],\"learning_rate\":[0.01,0.05,0.1],\"max_depth\": [1,2]}\n",
    "#,gamma=0,lambda=1,alpha=1,\"max_depth\":[1,2,3],\"min_child_weight\":[1,2,3]\n",
    "grid_search=GridSearchCV(XGBClassifier(),param_grid,cv=5,scoring=\"accuracy\")\n",
    "grid_search.fit(train_x,train_y)\n",
    "# cv_result = pd.DataFrame.from_dict(grid_search.cv_results_)\n",
    "# print(cv_result[[\"mean_test_score\",\"params\"]])\n",
    "print(\"Best parameters:{}\".format(grid_search.best_params_))\n",
    "print(\"Best cross_validation score:{}\".format(grid_search.best_score_))\n",
    "pre_y=grid_search.predict(test_x)\n",
    "print(\"The accuracy of test:{}\".format(accuracy_score(test_y,pre_y)))"
   ]
  },
  {
   "cell_type": "code",
   "execution_count": 13,
   "metadata": {},
   "outputs": [
    {
     "name": "stdout",
     "output_type": "stream",
     "text": [
      "Best parameters:{'learning_rate': 0.008, 'n_estimators': 190}\n",
      "Best cross_validation score:0.9375628379663596\n",
      "The accuracy of test:0.9396144126518301\n"
     ]
    }
   ],
   "source": [
    "param_grid={\"n_estimators\":[190,200,210],\"learning_rate\":[0.008,0.009,0.01,0.02,0.03]}\n",
    "grid_search=GridSearchCV(XGBClassifier(max_depth=1),param_grid,cv=5,scoring=\"accuracy\")\n",
    "grid_search.fit(train_x,train_y)\n",
    "# cv_result = pd.DataFrame.from_dict(grid_search.cv_results_)\n",
    "# print(cv_result[[\"mean_test_score\",\"params\"]])\n",
    "print(\"Best parameters:{}\".format(grid_search.best_params_))\n",
    "print(\"Best cross_validation score:{}\".format(grid_search.best_score_))\n",
    "pre_y=grid_search.predict(test_x)\n",
    "print(\"The accuracy of test:{}\".format(accuracy_score(test_y,pre_y)))"
   ]
  },
  {
   "cell_type": "code",
   "execution_count": 14,
   "metadata": {},
   "outputs": [
    {
     "name": "stdout",
     "output_type": "stream",
     "text": [
      "Best parameters:{'gamma': 0, 'min_child_weight': 1, 'reg_lambda': 1}\n",
      "Best cross_validation score:0.9375628379663596\n",
      "The accuracy of test:0.9396144126518301\n"
     ]
    }
   ],
   "source": [
    "param_grid={\"min_child_weight\":[1,2,3],\"gamma\":[0,0.1,0.2,0.4],\"reg_lambda\":[1,2,4]}\n",
    "grid_search=GridSearchCV(XGBClassifier(max_depth=1,learning_rate=0.01,n_estimators= 210),param_grid,cv=5,scoring=\"accuracy\")\n",
    "grid_search.fit(train_x,train_y)\n",
    "# cv_result = pd.DataFrame.from_dict(grid_search.cv_results_)\n",
    "# print(cv_result[[\"mean_test_score\",\"params\"]])\n",
    "print(\"Best parameters:{}\".format(grid_search.best_params_))\n",
    "print(\"Best cross_validation score:{}\".format(grid_search.best_score_))\n",
    "pre_y=grid_search.predict(test_x)\n",
    "print(\"The accuracy of test:{}\".format(accuracy_score(test_y,pre_y)))"
   ]
  },
  {
   "cell_type": "code",
   "execution_count": 15,
   "metadata": {},
   "outputs": [
    {
     "name": "stdout",
     "output_type": "stream",
     "text": [
      "Best parameters:{'min_child_weight': 1, 'reg_alpha': 0.6, 'reg_lambda': 0.6}\n",
      "Best cross_validation score:0.9375628379663596\n",
      "The accuracy of test:0.9396144126518301\n"
     ]
    }
   ],
   "source": [
    "param_grid={\"min_child_weight\":[1,2,3],\"reg_lambda\":[0.6,0.8,1,1.2],\"reg_alpha\":[0.6,0.8,1,1.2]}\n",
    "grid_search=GridSearchCV(XGBClassifier(max_depth=1,learning_rate=0.01,n_estimators= 210,gamma=0),param_grid,cv=5,scoring=\"accuracy\")\n",
    "grid_search.fit(train_x,train_y)\n",
    "# cv_result = pd.DataFrame.from_dict(grid_search.cv_results_)\n",
    "# print(cv_result[[\"mean_test_score\",\"params\"]])\n",
    "print(\"Best parameters:{}\".format(grid_search.best_params_))\n",
    "print(\"Best cross_validation score:{}\".format(grid_search.best_score_))\n",
    "pre_y=grid_search.predict(test_x)\n",
    "print(\"The accuracy of test:{}\".format(accuracy_score(test_y,pre_y)))"
   ]
  },
  {
   "cell_type": "code",
   "execution_count": 16,
   "metadata": {
    "collapsed": true
   },
   "outputs": [],
   "source": [
    "#组合模型\n",
    "lg=LogisticRegression(penalty=\"l1\",C=0.0001)\n",
    "gbdt=GradientBoostingClassifier(n_estimators=220,learning_rate=0.1,max_depth= 2, min_samples_split= 200,min_samples_leaf=70)\n",
    "xgb=XGBClassifier(gamma=0,min_child_weight=1,reg_lambda=1,max_depth=1,learning_rate=0.01,n_estimators= 210)\n",
    "train_x=train_info_log1.iloc[:,1:7]\n",
    "train_y=train_info_log1.iloc[:,0]\n",
    "\n",
    "class Bagging(object):\n",
    "    def __init__(self,clfs):\n",
    "        self.clf_names=[]\n",
    "        self.clfs=[]\n",
    "        for i in clfs:\n",
    "            self.clf_names.append(i[0])\n",
    "            self.clfs.append(i[1])\n",
    "        self.clf=LogisticRegression()\n",
    "        \n",
    "    def fit(self,x,y):\n",
    "        for i in self.clfs:\n",
    "            i.fit(x,y)\n",
    "        xx=pd.concat([pd.DataFrame(i.predict_proba(x)) for i in self.clfs],axis=1)\n",
    "        xx_train=xx.iloc[:,[1,3,5]]\n",
    "        self.clf.fit(xx_train,y)\n",
    "            \n",
    "    def pre_proba(self,x):\n",
    "        X=pd.concat([pd.DataFrame(i.predict_proba(x)) for i in self.clfs],axis=1)\n",
    "        X_train=X.iloc[:,[1,3,5]]\n",
    "        return self.clf.predict_proba(X_train)      \n",
    "        \n",
    "bag=Bagging([('LogisticRegression',lg),(\"GradientBoostingClassifier\",gbdt),(\"XGBClassifier\",xgb)])\n",
    "bag.fit(train_x,train_y)            \n",
    "y_predict=bag.pre_proba(complete_test)"
   ]
  },
  {
   "cell_type": "code",
   "execution_count": 17,
   "metadata": {
    "collapsed": true
   },
   "outputs": [],
   "source": [
    "y_predict=pd.DataFrame(y_predict)\n",
    "y_predict1=y_predict.iloc[:,1]\n",
    "y_predict1.to_csv('E:/file_of_the_R/repeatbuyers/output_file/submission_1_f.csv', index=False)"
   ]
  }
 ],
 "metadata": {
  "kernelspec": {
   "display_name": "Python 3",
   "language": "python",
   "name": "python3"
  },
  "language_info": {
   "codemirror_mode": {
    "name": "ipython",
    "version": 3
   },
   "file_extension": ".py",
   "mimetype": "text/x-python",
   "name": "python",
   "nbconvert_exporter": "python",
   "pygments_lexer": "ipython3",
   "version": "3.6.3"
  }
 },
 "nbformat": 4,
 "nbformat_minor": 2
}
